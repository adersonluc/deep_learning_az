{
 "cells": [
  {
   "cell_type": "code",
   "execution_count": 1,
   "metadata": {},
   "outputs": [],
   "source": [
    "import numpy as np\n",
    "import matplotlib.pyplot as plt\n",
    "import pandas as pd\n",
    "\n",
    "#split data\n",
    "from sklearn.model_selection import train_test_split\n",
    "\n",
    "#Encoding categorical variable\n",
    "from sklearn.preprocessing import LabelEncoder, OneHotEncoder, StandardScaler\n",
    "\n",
    "#confusion matrix\n",
    "from sklearn.metrics import confusion_matrix"
   ]
  },
  {
   "cell_type": "code",
   "execution_count": 163,
   "metadata": {},
   "outputs": [],
   "source": [
    "data_path = 'C:/Users/aderson.medeiros/Documents/aderson/estudo/dataScience/udemy/deep_learning_az/part1-ann/'\n",
    "dataset = pd.read_csv(data_path+'source/Churn_Modelling.csv')\n",
    "X = dataset.iloc[:, 3:13].values\n",
    "y = dataset.iloc[:, 13].values"
   ]
  },
  {
   "cell_type": "code",
   "execution_count": 164,
   "metadata": {},
   "outputs": [],
   "source": [
    "labelencoder_X_1 = LabelEncoder()\n",
    "labelencoder_X_1.fit(X[:,1])\n",
    "X[:, 1] = labelencoder_X_1.transform(X[:,1])\n",
    "labelencoder_X_2 = LabelEncoder()\n",
    "labelencoder_X_2.fit(X[:,2])\n",
    "X[:, 2] = labelencoder_X_2.transform(X[:,2])"
   ]
  },
  {
   "cell_type": "code",
   "execution_count": 165,
   "metadata": {},
   "outputs": [
    {
     "name": "stderr",
     "output_type": "stream",
     "text": [
      "C:\\Users\\aderson.medeiros\\Documents\\aderson\\estudo\\dataScience\\udemy\\deep_learning_az\\deeplaz\\lib\\site-packages\\sklearn\\preprocessing\\_encoders.py:368: FutureWarning: The handling of integer data will change in version 0.22. Currently, the categories are determined based on the range [0, max(values)], while in the future they will be determined based on the unique values.\n",
      "If you want the future behaviour and silence this warning, you can specify \"categories='auto'\".\n",
      "In case you used a LabelEncoder before this OneHotEncoder to convert the categories to integers, then you can now use the OneHotEncoder directly.\n",
      "  warnings.warn(msg, FutureWarning)\n"
     ]
    }
   ],
   "source": [
    "from sklearn.compose import ColumnTransformer, make_column_transformer\n",
    "ct = ColumnTransformer([('onehot', OneHotEncoder(), [1])], remainder='passthrough')\n",
    "ct.fit(X)\n",
    "X = ct.transform(X)\n",
    "X = X[:, 1:]"
   ]
  },
  {
   "cell_type": "code",
   "execution_count": 176,
   "metadata": {},
   "outputs": [
    {
     "name": "stderr",
     "output_type": "stream",
     "text": [
      "C:\\Users\\aderson.medeiros\\Documents\\aderson\\estudo\\dataScience\\udemy\\deep_learning_az\\deeplaz\\lib\\site-packages\\sklearn\\utils\\validation.py:595: DataConversionWarning: Data with input dtype object was converted to float64 by StandardScaler.\n",
      "  warnings.warn(msg, DataConversionWarning)\n",
      "C:\\Users\\aderson.medeiros\\Documents\\aderson\\estudo\\dataScience\\udemy\\deep_learning_az\\deeplaz\\lib\\site-packages\\sklearn\\utils\\validation.py:595: DataConversionWarning: Data with input dtype object was converted to float64 by StandardScaler.\n",
      "  warnings.warn(msg, DataConversionWarning)\n",
      "C:\\Users\\aderson.medeiros\\Documents\\aderson\\estudo\\dataScience\\udemy\\deep_learning_az\\deeplaz\\lib\\site-packages\\sklearn\\utils\\validation.py:595: DataConversionWarning: Data with input dtype object was converted to float64 by StandardScaler.\n",
      "  warnings.warn(msg, DataConversionWarning)\n"
     ]
    }
   ],
   "source": [
    "X_train, X_test, y_train, y_test = train_test_split(X, y, test_size = 0.2, random_state=42)\n",
    "sc = StandardScaler()\n",
    "sc.fit(X_train)\n",
    "X_train = sc.transform(X_train)\n",
    "X_test = sc.transform(X_test)"
   ]
  },
  {
   "cell_type": "code",
   "execution_count": 91,
   "metadata": {},
   "outputs": [],
   "source": [
    "#import keras\n",
    "import keras\n",
    "\n",
    "from keras.models import Sequential\n",
    "from keras.layers import Dense"
   ]
  },
  {
   "cell_type": "code",
   "execution_count": 168,
   "metadata": {},
   "outputs": [
    {
     "name": "stdout",
     "output_type": "stream",
     "text": [
      "Epoch 1/100\n",
      "8000/8000 [==============================] - 0s 41us/step - loss: 0.6798 - acc: 0.7884\n",
      "Epoch 2/100\n",
      "8000/8000 [==============================] - 0s 8us/step - loss: 0.6357 - acc: 0.7945\n",
      "Epoch 3/100\n",
      "8000/8000 [==============================] - 0s 7us/step - loss: 0.5470 - acc: 0.7945\n",
      "Epoch 4/100\n",
      "8000/8000 [==============================] - 0s 7us/step - loss: 0.4653 - acc: 0.7945\n",
      "Epoch 5/100\n",
      "8000/8000 [==============================] - 0s 7us/step - loss: 0.4428 - acc: 0.7945\n",
      "Epoch 6/100\n",
      "8000/8000 [==============================] - 0s 6us/step - loss: 0.4366 - acc: 0.7945\n",
      "Epoch 7/100\n",
      "8000/8000 [==============================] - 0s 7us/step - loss: 0.4329 - acc: 0.7945\n",
      "Epoch 8/100\n",
      "8000/8000 [==============================] - 0s 8us/step - loss: 0.4303 - acc: 0.7945\n",
      "Epoch 9/100\n",
      "8000/8000 [==============================] - 0s 8us/step - loss: 0.4285 - acc: 0.7945\n",
      "Epoch 10/100\n",
      "8000/8000 [==============================] - 0s 7us/step - loss: 0.4269 - acc: 0.7945\n",
      "Epoch 11/100\n",
      "8000/8000 [==============================] - 0s 7us/step - loss: 0.4254 - acc: 0.8089\n",
      "Epoch 12/100\n",
      "8000/8000 [==============================] - 0s 7us/step - loss: 0.4238 - acc: 0.8174\n",
      "Epoch 13/100\n",
      "8000/8000 [==============================] - 0s 6us/step - loss: 0.4219 - acc: 0.8216\n",
      "Epoch 14/100\n",
      "8000/8000 [==============================] - 0s 6us/step - loss: 0.4197 - acc: 0.8237\n",
      "Epoch 15/100\n",
      "8000/8000 [==============================] - 0s 6us/step - loss: 0.4176 - acc: 0.8281\n",
      "Epoch 16/100\n",
      "8000/8000 [==============================] - 0s 7us/step - loss: 0.4158 - acc: 0.8289\n",
      "Epoch 17/100\n",
      "8000/8000 [==============================] - 0s 6us/step - loss: 0.4137 - acc: 0.8311\n",
      "Epoch 18/100\n",
      "8000/8000 [==============================] - 0s 6us/step - loss: 0.4121 - acc: 0.8322\n",
      "Epoch 19/100\n",
      "8000/8000 [==============================] - 0s 7us/step - loss: 0.4108 - acc: 0.8325\n",
      "Epoch 20/100\n",
      "8000/8000 [==============================] - 0s 8us/step - loss: 0.4094 - acc: 0.8334\n",
      "Epoch 21/100\n",
      "8000/8000 [==============================] - 0s 7us/step - loss: 0.4082 - acc: 0.8324\n",
      "Epoch 22/100\n",
      "8000/8000 [==============================] - 0s 7us/step - loss: 0.4074 - acc: 0.8342\n",
      "Epoch 23/100\n",
      "8000/8000 [==============================] - 0s 7us/step - loss: 0.4064 - acc: 0.8339\n",
      "Epoch 24/100\n",
      "8000/8000 [==============================] - 0s 7us/step - loss: 0.4056 - acc: 0.8345\n",
      "Epoch 25/100\n",
      "8000/8000 [==============================] - 0s 7us/step - loss: 0.4050 - acc: 0.8344\n",
      "Epoch 26/100\n",
      "8000/8000 [==============================] - 0s 7us/step - loss: 0.4043 - acc: 0.8345\n",
      "Epoch 27/100\n",
      "8000/8000 [==============================] - 0s 6us/step - loss: 0.4038 - acc: 0.8362\n",
      "Epoch 28/100\n",
      "8000/8000 [==============================] - 0s 7us/step - loss: 0.4032 - acc: 0.8355\n",
      "Epoch 29/100\n",
      "8000/8000 [==============================] - 0s 7us/step - loss: 0.4028 - acc: 0.8357\n",
      "Epoch 30/100\n",
      "8000/8000 [==============================] - 0s 7us/step - loss: 0.4023 - acc: 0.8356\n",
      "Epoch 31/100\n",
      "8000/8000 [==============================] - 0s 6us/step - loss: 0.4017 - acc: 0.8374\n",
      "Epoch 32/100\n",
      "8000/8000 [==============================] - 0s 7us/step - loss: 0.4013 - acc: 0.8364\n",
      "Epoch 33/100\n",
      "8000/8000 [==============================] - 0s 6us/step - loss: 0.4008 - acc: 0.8366\n",
      "Epoch 34/100\n",
      "8000/8000 [==============================] - 0s 6us/step - loss: 0.4007 - acc: 0.8359\n",
      "Epoch 35/100\n",
      "8000/8000 [==============================] - 0s 7us/step - loss: 0.4000 - acc: 0.8365\n",
      "Epoch 36/100\n",
      "8000/8000 [==============================] - 0s 7us/step - loss: 0.3995 - acc: 0.8366\n",
      "Epoch 37/100\n",
      "8000/8000 [==============================] - 0s 7us/step - loss: 0.3996 - acc: 0.8369\n",
      "Epoch 38/100\n",
      "8000/8000 [==============================] - 0s 7us/step - loss: 0.3989 - acc: 0.8370\n",
      "Epoch 39/100\n",
      "8000/8000 [==============================] - 0s 8us/step - loss: 0.3988 - acc: 0.8351\n",
      "Epoch 40/100\n",
      "8000/8000 [==============================] - 0s 11us/step - loss: 0.3985 - acc: 0.8365\n",
      "Epoch 41/100\n",
      "8000/8000 [==============================] - 0s 8us/step - loss: 0.3983 - acc: 0.8367\n",
      "Epoch 42/100\n",
      "8000/8000 [==============================] - 0s 8us/step - loss: 0.3980 - acc: 0.8370\n",
      "Epoch 43/100\n",
      "8000/8000 [==============================] - 0s 8us/step - loss: 0.3980 - acc: 0.8362\n",
      "Epoch 44/100\n",
      "8000/8000 [==============================] - 0s 8us/step - loss: 0.3977 - acc: 0.8360\n",
      "Epoch 45/100\n",
      "8000/8000 [==============================] - 0s 7us/step - loss: 0.3976 - acc: 0.8352\n",
      "Epoch 46/100\n",
      "8000/8000 [==============================] - 0s 8us/step - loss: 0.3975 - acc: 0.8360\n",
      "Epoch 47/100\n",
      "8000/8000 [==============================] - 0s 10us/step - loss: 0.3974 - acc: 0.8366\n",
      "Epoch 48/100\n",
      "8000/8000 [==============================] - 0s 8us/step - loss: 0.3972 - acc: 0.8356\n",
      "Epoch 49/100\n",
      "8000/8000 [==============================] - 0s 7us/step - loss: 0.3971 - acc: 0.8351\n",
      "Epoch 50/100\n",
      "8000/8000 [==============================] - 0s 7us/step - loss: 0.3970 - acc: 0.8360\n",
      "Epoch 51/100\n",
      "8000/8000 [==============================] - 0s 8us/step - loss: 0.3969 - acc: 0.8354\n",
      "Epoch 52/100\n",
      "8000/8000 [==============================] - 0s 8us/step - loss: 0.3969 - acc: 0.8357\n",
      "Epoch 53/100\n",
      "8000/8000 [==============================] - 0s 7us/step - loss: 0.3969 - acc: 0.8362\n",
      "Epoch 54/100\n",
      "8000/8000 [==============================] - 0s 6us/step - loss: 0.3965 - acc: 0.8356\n",
      "Epoch 55/100\n",
      "8000/8000 [==============================] - 0s 7us/step - loss: 0.3965 - acc: 0.8352\n",
      "Epoch 56/100\n",
      "8000/8000 [==============================] - 0s 7us/step - loss: 0.3963 - acc: 0.8361\n",
      "Epoch 57/100\n",
      "8000/8000 [==============================] - 0s 9us/step - loss: 0.3963 - acc: 0.8345\n",
      "Epoch 58/100\n",
      "8000/8000 [==============================] - 0s 7us/step - loss: 0.3960 - acc: 0.8366\n",
      "Epoch 59/100\n",
      "8000/8000 [==============================] - 0s 7us/step - loss: 0.3963 - acc: 0.8362\n",
      "Epoch 60/100\n",
      "8000/8000 [==============================] - 0s 7us/step - loss: 0.3961 - acc: 0.8364\n",
      "Epoch 61/100\n",
      "8000/8000 [==============================] - 0s 7us/step - loss: 0.3960 - acc: 0.8349\n",
      "Epoch 62/100\n",
      "8000/8000 [==============================] - 0s 7us/step - loss: 0.3957 - acc: 0.8359\n",
      "Epoch 63/100\n",
      "8000/8000 [==============================] - 0s 7us/step - loss: 0.3956 - acc: 0.8357\n",
      "Epoch 64/100\n",
      "8000/8000 [==============================] - 0s 6us/step - loss: 0.3956 - acc: 0.8366\n",
      "Epoch 65/100\n",
      "8000/8000 [==============================] - 0s 6us/step - loss: 0.3956 - acc: 0.8359\n",
      "Epoch 66/100\n",
      "8000/8000 [==============================] - 0s 6us/step - loss: 0.3956 - acc: 0.8361\n",
      "Epoch 67/100\n",
      "8000/8000 [==============================] - 0s 6us/step - loss: 0.3952 - acc: 0.8354\n",
      "Epoch 68/100\n",
      "8000/8000 [==============================] - 0s 8us/step - loss: 0.3952 - acc: 0.8356\n",
      "Epoch 69/100\n",
      "8000/8000 [==============================] - 0s 7us/step - loss: 0.3950 - acc: 0.8364\n",
      "Epoch 70/100\n",
      "8000/8000 [==============================] - 0s 6us/step - loss: 0.3951 - acc: 0.8365\n",
      "Epoch 71/100\n",
      "8000/8000 [==============================] - 0s 6us/step - loss: 0.3951 - acc: 0.8360\n",
      "Epoch 72/100\n",
      "8000/8000 [==============================] - 0s 7us/step - loss: 0.3950 - acc: 0.8363\n",
      "Epoch 73/100\n",
      "8000/8000 [==============================] - 0s 6us/step - loss: 0.3951 - acc: 0.8358\n",
      "Epoch 74/100\n",
      "8000/8000 [==============================] - 0s 6us/step - loss: 0.3948 - acc: 0.8359\n",
      "Epoch 75/100\n",
      "8000/8000 [==============================] - 0s 7us/step - loss: 0.3949 - acc: 0.8361\n",
      "Epoch 76/100\n",
      "8000/8000 [==============================] - 0s 7us/step - loss: 0.3947 - acc: 0.8357\n",
      "Epoch 77/100\n",
      "8000/8000 [==============================] - 0s 6us/step - loss: 0.3947 - acc: 0.8362\n",
      "Epoch 78/100\n",
      "8000/8000 [==============================] - 0s 7us/step - loss: 0.3946 - acc: 0.8361\n",
      "Epoch 79/100\n",
      "8000/8000 [==============================] - 0s 7us/step - loss: 0.3949 - acc: 0.8371\n",
      "Epoch 80/100\n",
      "8000/8000 [==============================] - 0s 7us/step - loss: 0.3945 - acc: 0.8365\n",
      "Epoch 81/100\n",
      "8000/8000 [==============================] - 0s 7us/step - loss: 0.3947 - acc: 0.8372\n",
      "Epoch 82/100\n",
      "8000/8000 [==============================] - 0s 7us/step - loss: 0.3944 - acc: 0.8360\n",
      "Epoch 83/100\n"
     ]
    },
    {
     "name": "stdout",
     "output_type": "stream",
     "text": [
      "8000/8000 [==============================] - 0s 6us/step - loss: 0.3944 - acc: 0.8357\n",
      "Epoch 84/100\n",
      "8000/8000 [==============================] - 0s 7us/step - loss: 0.3944 - acc: 0.8364\n",
      "Epoch 85/100\n",
      "8000/8000 [==============================] - 0s 6us/step - loss: 0.3943 - acc: 0.8366\n",
      "Epoch 86/100\n",
      "8000/8000 [==============================] - 0s 7us/step - loss: 0.3943 - acc: 0.8369\n",
      "Epoch 87/100\n",
      "8000/8000 [==============================] - 0s 7us/step - loss: 0.3944 - acc: 0.8368\n",
      "Epoch 88/100\n",
      "8000/8000 [==============================] - 0s 7us/step - loss: 0.3942 - acc: 0.8370\n",
      "Epoch 89/100\n",
      "8000/8000 [==============================] - 0s 6us/step - loss: 0.3941 - acc: 0.8370\n",
      "Epoch 90/100\n",
      "8000/8000 [==============================] - 0s 7us/step - loss: 0.3942 - acc: 0.8374\n",
      "Epoch 91/100\n",
      "8000/8000 [==============================] - 0s 6us/step - loss: 0.3940 - acc: 0.8365\n",
      "Epoch 92/100\n",
      "8000/8000 [==============================] - 0s 6us/step - loss: 0.3941 - acc: 0.8365\n",
      "Epoch 93/100\n",
      "8000/8000 [==============================] - 0s 6us/step - loss: 0.3940 - acc: 0.8368\n",
      "Epoch 94/100\n",
      "8000/8000 [==============================] - 0s 6us/step - loss: 0.3939 - acc: 0.8369\n",
      "Epoch 95/100\n",
      "8000/8000 [==============================] - 0s 6us/step - loss: 0.3940 - acc: 0.8367\n",
      "Epoch 96/100\n",
      "8000/8000 [==============================] - 0s 7us/step - loss: 0.3940 - acc: 0.8371\n",
      "Epoch 97/100\n",
      "8000/8000 [==============================] - 0s 7us/step - loss: 0.3938 - acc: 0.8384\n",
      "Epoch 98/100\n",
      "8000/8000 [==============================] - 0s 6us/step - loss: 0.3938 - acc: 0.8366\n",
      "Epoch 99/100\n",
      "8000/8000 [==============================] - 0s 6us/step - loss: 0.3937 - acc: 0.8366\n",
      "Epoch 100/100\n",
      "8000/8000 [==============================] - 0s 6us/step - loss: 0.3938 - acc: 0.8367\n"
     ]
    },
    {
     "data": {
      "text/plain": [
       "<keras.callbacks.History at 0x2bb45d1ccc0>"
      ]
     },
     "execution_count": 168,
     "metadata": {},
     "output_type": "execute_result"
    }
   ],
   "source": [
    "#initializing the artificial neural network\n",
    "classifier = Sequential()\n",
    "\n",
    "#adding the input layer and the first hidden layer\n",
    "classifier.add(Dense(units=6, kernel_initializer='uniform', activation='relu', input_dim=11))\n",
    "\n",
    "#adding second hidden layer\n",
    "classifier.add(Dense(units=6, kernel_initializer='uniform', activation='relu'))\n",
    "\n",
    "#adding output layer\n",
    "classifier.add(Dense(units=1, kernel_initializer='uniform', activation='sigmoid'))\n",
    "\n",
    "#compile model\n",
    "classifier.compile(optimizer='adam', loss='binary_crossentropy', metrics=['accuracy'])\n",
    "\n",
    "#fit the model\n",
    "classifier.fit(X_train, y_train, epochs=100, batch_size=100)"
   ]
  },
  {
   "cell_type": "code",
   "execution_count": 169,
   "metadata": {},
   "outputs": [],
   "source": [
    "y_pred = classifier.predict(X_test)\n",
    "y_pred = (y_pred > 0.5)\n",
    "cm = confusion_matrix(y_test, y_pred)"
   ]
  },
  {
   "cell_type": "code",
   "execution_count": 170,
   "metadata": {},
   "outputs": [
    {
     "data": {
      "text/plain": [
       "array([[1551,   56],\n",
       "       [ 260,  133]], dtype=int64)"
      ]
     },
     "execution_count": 170,
     "metadata": {},
     "output_type": "execute_result"
    }
   ],
   "source": [
    "cm"
   ]
  },
  {
   "cell_type": "code",
   "execution_count": 178,
   "metadata": {},
   "outputs": [
    {
     "name": "stderr",
     "output_type": "stream",
     "text": [
      "C:\\Users\\aderson.medeiros\\Documents\\aderson\\estudo\\dataScience\\udemy\\deep_learning_az\\deeplaz\\lib\\site-packages\\sklearn\\utils\\validation.py:595: DataConversionWarning: Data with input dtype object was converted to float64 by StandardScaler.\n",
      "  warnings.warn(msg, DataConversionWarning)\n"
     ]
    }
   ],
   "source": [
    "pred_value = np.array([600, 'France', 'Male', 40, 3, 60000, 2, 1, 1, 50000])\n",
    "pred_value[1] = labelencoder_X_1.transform([pred_value[1]])[0]\n",
    "pred_value[2] = labelencoder_X_2.transform([pred_value[2]])[0]\n",
    "pred_value = ct.transform([pred_value])\n",
    "pred_value = pred_value[:,1:]\n",
    "pred_value = sc.transform(pred_value)"
   ]
  },
  {
   "cell_type": "code",
   "execution_count": 181,
   "metadata": {},
   "outputs": [],
   "source": [
    "nova_pred = classifier.predict(pred_value)"
   ]
  },
  {
   "cell_type": "code",
   "execution_count": 182,
   "metadata": {},
   "outputs": [
    {
     "data": {
      "text/plain": [
       "array([[False]])"
      ]
     },
     "execution_count": 182,
     "metadata": {},
     "output_type": "execute_result"
    }
   ],
   "source": [
    "(nova_pred > 0.5)"
   ]
  }
 ],
 "metadata": {
  "kernelspec": {
   "display_name": "Python 3",
   "language": "python",
   "name": "python3"
  },
  "language_info": {
   "codemirror_mode": {
    "name": "ipython",
    "version": 3
   },
   "file_extension": ".py",
   "mimetype": "text/x-python",
   "name": "python",
   "nbconvert_exporter": "python",
   "pygments_lexer": "ipython3",
   "version": "3.6.8"
  }
 },
 "nbformat": 4,
 "nbformat_minor": 2
}
