{
 "cells": [
  {
   "cell_type": "code",
   "execution_count": 1,
   "metadata": {},
   "outputs": [],
   "source": [
    "import numpy as np\n",
    "import matplotlib.pyplot as plt\n",
    "import pandas as pd\n",
    "\n",
    "#split data\n",
    "from sklearn.model_selection import train_test_split\n",
    "\n",
    "#Encoding categorical variable\n",
    "from sklearn.preprocessing import LabelEncoder, OneHotEncoder, StandardScaler\n",
    "\n",
    "#confusion matrix\n",
    "from sklearn.metrics import confusion_matrix"
   ]
  },
  {
   "cell_type": "code",
   "execution_count": 2,
   "metadata": {},
   "outputs": [],
   "source": [
    "data_path = 'C:/Users/aderson.medeiros/Documents/aderson/estudo/dataScience/udemy/deep_learning_az/part1-ann/'\n",
    "dataset = pd.read_csv(data_path+'source/Churn_Modelling.csv')\n",
    "X = dataset.iloc[:, 3:13].values\n",
    "y = dataset.iloc[:, 13].values"
   ]
  },
  {
   "cell_type": "code",
   "execution_count": 3,
   "metadata": {},
   "outputs": [],
   "source": [
    "labelencoder_X_1 = LabelEncoder()\n",
    "labelencoder_X_1.fit(X[:,1])\n",
    "X[:, 1] = labelencoder_X_1.transform(X[:,1])\n",
    "labelencoder_X_2 = LabelEncoder()\n",
    "labelencoder_X_2.fit(X[:,2])\n",
    "X[:, 2] = labelencoder_X_2.transform(X[:,2])"
   ]
  },
  {
   "cell_type": "code",
   "execution_count": 4,
   "metadata": {},
   "outputs": [
    {
     "name": "stderr",
     "output_type": "stream",
     "text": [
      "C:\\Users\\aderson.medeiros\\Documents\\aderson\\estudo\\dataScience\\udemy\\deep_learning_az\\deeplaz\\lib\\site-packages\\sklearn\\preprocessing\\_encoders.py:368: FutureWarning: The handling of integer data will change in version 0.22. Currently, the categories are determined based on the range [0, max(values)], while in the future they will be determined based on the unique values.\n",
      "If you want the future behaviour and silence this warning, you can specify \"categories='auto'\".\n",
      "In case you used a LabelEncoder before this OneHotEncoder to convert the categories to integers, then you can now use the OneHotEncoder directly.\n",
      "  warnings.warn(msg, FutureWarning)\n"
     ]
    }
   ],
   "source": [
    "from sklearn.compose import ColumnTransformer, make_column_transformer\n",
    "ct = ColumnTransformer([('onehot', OneHotEncoder(), [1])], remainder='passthrough')\n",
    "ct.fit(X)\n",
    "X = ct.transform(X)\n",
    "X = X[:, 1:]"
   ]
  },
  {
   "cell_type": "code",
   "execution_count": 5,
   "metadata": {},
   "outputs": [
    {
     "name": "stderr",
     "output_type": "stream",
     "text": [
      "C:\\Users\\aderson.medeiros\\Documents\\aderson\\estudo\\dataScience\\udemy\\deep_learning_az\\deeplaz\\lib\\site-packages\\sklearn\\utils\\validation.py:595: DataConversionWarning: Data with input dtype object was converted to float64 by StandardScaler.\n",
      "  warnings.warn(msg, DataConversionWarning)\n",
      "C:\\Users\\aderson.medeiros\\Documents\\aderson\\estudo\\dataScience\\udemy\\deep_learning_az\\deeplaz\\lib\\site-packages\\sklearn\\utils\\validation.py:595: DataConversionWarning: Data with input dtype object was converted to float64 by StandardScaler.\n",
      "  warnings.warn(msg, DataConversionWarning)\n",
      "C:\\Users\\aderson.medeiros\\Documents\\aderson\\estudo\\dataScience\\udemy\\deep_learning_az\\deeplaz\\lib\\site-packages\\sklearn\\utils\\validation.py:595: DataConversionWarning: Data with input dtype object was converted to float64 by StandardScaler.\n",
      "  warnings.warn(msg, DataConversionWarning)\n"
     ]
    }
   ],
   "source": [
    "X_train, X_test, y_train, y_test = train_test_split(X, y, test_size = 0.2, random_state=42)\n",
    "sc = StandardScaler()\n",
    "sc.fit(X_train)\n",
    "X_train = sc.transform(X_train)\n",
    "X_test = sc.transform(X_test)"
   ]
  },
  {
   "cell_type": "code",
   "execution_count": 6,
   "metadata": {},
   "outputs": [
    {
     "name": "stderr",
     "output_type": "stream",
     "text": [
      "Using TensorFlow backend.\n"
     ]
    }
   ],
   "source": [
    "#import keras\n",
    "import keras\n",
    "\n",
    "from keras.models import Sequential\n",
    "from keras.layers import Dense"
   ]
  },
  {
   "cell_type": "code",
   "execution_count": 7,
   "metadata": {},
   "outputs": [
    {
     "name": "stdout",
     "output_type": "stream",
     "text": [
      "WARNING:tensorflow:From C:\\Users\\aderson.medeiros\\Documents\\aderson\\estudo\\dataScience\\udemy\\deep_learning_az\\deeplaz\\lib\\site-packages\\tensorflow\\python\\framework\\op_def_library.py:263: colocate_with (from tensorflow.python.framework.ops) is deprecated and will be removed in a future version.\n",
      "Instructions for updating:\n",
      "Colocations handled automatically by placer.\n",
      "WARNING:tensorflow:From C:\\Users\\aderson.medeiros\\Documents\\aderson\\estudo\\dataScience\\udemy\\deep_learning_az\\deeplaz\\lib\\site-packages\\tensorflow\\python\\ops\\math_ops.py:3066: to_int32 (from tensorflow.python.ops.math_ops) is deprecated and will be removed in a future version.\n",
      "Instructions for updating:\n",
      "Use tf.cast instead.\n",
      "Epoch 1/100\n",
      "8000/8000 [==============================] - 0s 31us/step - loss: 0.6788 - acc: 0.7885\n",
      "Epoch 2/100\n",
      "8000/8000 [==============================] - 0s 8us/step - loss: 0.6137 - acc: 0.7945\n",
      "Epoch 3/100\n",
      "8000/8000 [==============================] - 0s 7us/step - loss: 0.4943 - acc: 0.7945\n",
      "Epoch 4/100\n",
      "8000/8000 [==============================] - 0s 7us/step - loss: 0.4506 - acc: 0.7945\n",
      "Epoch 5/100\n",
      "8000/8000 [==============================] - 0s 7us/step - loss: 0.4423 - acc: 0.7945\n",
      "Epoch 6/100\n",
      "8000/8000 [==============================] - 0s 7us/step - loss: 0.4384 - acc: 0.7945\n",
      "Epoch 7/100\n",
      "8000/8000 [==============================] - 0s 7us/step - loss: 0.4360 - acc: 0.7945\n",
      "Epoch 8/100\n",
      "8000/8000 [==============================] - 0s 10us/step - loss: 0.4341 - acc: 0.7945\n",
      "Epoch 9/100\n",
      "8000/8000 [==============================] - 0s 10us/step - loss: 0.4327 - acc: 0.7945\n",
      "Epoch 10/100\n",
      "8000/8000 [==============================] - 0s 7us/step - loss: 0.4314 - acc: 0.7945\n",
      "Epoch 11/100\n",
      "8000/8000 [==============================] - 0s 7us/step - loss: 0.4301 - acc: 0.7945\n",
      "Epoch 12/100\n",
      "8000/8000 [==============================] - 0s 8us/step - loss: 0.4287 - acc: 0.7945\n",
      "Epoch 13/100\n",
      "8000/8000 [==============================] - 0s 7us/step - loss: 0.4273 - acc: 0.7945\n",
      "Epoch 14/100\n",
      "8000/8000 [==============================] - 0s 6us/step - loss: 0.4260 - acc: 0.7945\n",
      "Epoch 15/100\n",
      "8000/8000 [==============================] - 0s 6us/step - loss: 0.4248 - acc: 0.7945\n",
      "Epoch 16/100\n",
      "8000/8000 [==============================] - 0s 7us/step - loss: 0.4236 - acc: 0.7945\n",
      "Epoch 17/100\n",
      "8000/8000 [==============================] - 0s 7us/step - loss: 0.4224 - acc: 0.7945\n",
      "Epoch 18/100\n",
      "8000/8000 [==============================] - 0s 8us/step - loss: 0.4214 - acc: 0.7945\n",
      "Epoch 19/100\n",
      "8000/8000 [==============================] - 0s 8us/step - loss: 0.4206 - acc: 0.7945\n",
      "Epoch 20/100\n",
      "8000/8000 [==============================] - 0s 7us/step - loss: 0.4198 - acc: 0.7999\n",
      "Epoch 21/100\n",
      "8000/8000 [==============================] - 0s 7us/step - loss: 0.4193 - acc: 0.8207\n",
      "Epoch 22/100\n",
      "8000/8000 [==============================] - 0s 7us/step - loss: 0.4186 - acc: 0.8243\n",
      "Epoch 23/100\n",
      "8000/8000 [==============================] - 0s 7us/step - loss: 0.4181 - acc: 0.8253\n",
      "Epoch 24/100\n",
      "8000/8000 [==============================] - 0s 6us/step - loss: 0.4174 - acc: 0.8269\n",
      "Epoch 25/100\n",
      "8000/8000 [==============================] - 0s 7us/step - loss: 0.4170 - acc: 0.8276\n",
      "Epoch 26/100\n",
      "8000/8000 [==============================] - 0s 8us/step - loss: 0.4165 - acc: 0.8299\n",
      "Epoch 27/100\n",
      "8000/8000 [==============================] - 0s 7us/step - loss: 0.4160 - acc: 0.8300\n",
      "Epoch 28/100\n",
      "8000/8000 [==============================] - 0s 7us/step - loss: 0.4156 - acc: 0.8308\n",
      "Epoch 29/100\n",
      "8000/8000 [==============================] - 0s 6us/step - loss: 0.4153 - acc: 0.8317\n",
      "Epoch 30/100\n",
      "8000/8000 [==============================] - 0s 6us/step - loss: 0.4148 - acc: 0.8325\n",
      "Epoch 31/100\n",
      "8000/8000 [==============================] - 0s 6us/step - loss: 0.4146 - acc: 0.8313\n",
      "Epoch 32/100\n",
      "8000/8000 [==============================] - 0s 6us/step - loss: 0.4139 - acc: 0.8317\n",
      "Epoch 33/100\n",
      "8000/8000 [==============================] - 0s 6us/step - loss: 0.4135 - acc: 0.8328\n",
      "Epoch 34/100\n",
      "8000/8000 [==============================] - 0s 6us/step - loss: 0.4132 - acc: 0.8332\n",
      "Epoch 35/100\n",
      "8000/8000 [==============================] - 0s 7us/step - loss: 0.4129 - acc: 0.8331\n",
      "Epoch 36/100\n",
      "8000/8000 [==============================] - 0s 7us/step - loss: 0.4124 - acc: 0.8327\n",
      "Epoch 37/100\n",
      "8000/8000 [==============================] - 0s 6us/step - loss: 0.4123 - acc: 0.8331\n",
      "Epoch 38/100\n",
      "8000/8000 [==============================] - 0s 6us/step - loss: 0.4120 - acc: 0.8335\n",
      "Epoch 39/100\n",
      "8000/8000 [==============================] - 0s 6us/step - loss: 0.4117 - acc: 0.8336\n",
      "Epoch 40/100\n",
      "8000/8000 [==============================] - 0s 6us/step - loss: 0.4114 - acc: 0.8334\n",
      "Epoch 41/100\n",
      "8000/8000 [==============================] - 0s 6us/step - loss: 0.4108 - acc: 0.8340\n",
      "Epoch 42/100\n",
      "8000/8000 [==============================] - 0s 6us/step - loss: 0.4107 - acc: 0.8339\n",
      "Epoch 43/100\n",
      "8000/8000 [==============================] - 0s 6us/step - loss: 0.4104 - acc: 0.8335\n",
      "Epoch 44/100\n",
      "8000/8000 [==============================] - 0s 6us/step - loss: 0.4102 - acc: 0.8337\n",
      "Epoch 45/100\n",
      "8000/8000 [==============================] - 0s 6us/step - loss: 0.4099 - acc: 0.8334\n",
      "Epoch 46/100\n",
      "8000/8000 [==============================] - 0s 6us/step - loss: 0.4097 - acc: 0.8338\n",
      "Epoch 47/100\n",
      "8000/8000 [==============================] - 0s 6us/step - loss: 0.4096 - acc: 0.8331\n",
      "Epoch 48/100\n",
      "8000/8000 [==============================] - 0s 7us/step - loss: 0.4093 - acc: 0.8331\n",
      "Epoch 49/100\n",
      "8000/8000 [==============================] - 0s 6us/step - loss: 0.4091 - acc: 0.8340\n",
      "Epoch 50/100\n",
      "8000/8000 [==============================] - 0s 6us/step - loss: 0.4086 - acc: 0.8340\n",
      "Epoch 51/100\n",
      "8000/8000 [==============================] - 0s 6us/step - loss: 0.4087 - acc: 0.8336\n",
      "Epoch 52/100\n",
      "8000/8000 [==============================] - 0s 6us/step - loss: 0.4085 - acc: 0.8341\n",
      "Epoch 53/100\n",
      "8000/8000 [==============================] - 0s 6us/step - loss: 0.4081 - acc: 0.8340\n",
      "Epoch 54/100\n",
      "8000/8000 [==============================] - 0s 6us/step - loss: 0.4079 - acc: 0.8345\n",
      "Epoch 55/100\n",
      "8000/8000 [==============================] - 0s 6us/step - loss: 0.4077 - acc: 0.8346\n",
      "Epoch 56/100\n",
      "8000/8000 [==============================] - 0s 6us/step - loss: 0.4075 - acc: 0.8340\n",
      "Epoch 57/100\n",
      "8000/8000 [==============================] - 0s 6us/step - loss: 0.4074 - acc: 0.8347\n",
      "Epoch 58/100\n",
      "8000/8000 [==============================] - 0s 6us/step - loss: 0.4071 - acc: 0.8346\n",
      "Epoch 59/100\n",
      "8000/8000 [==============================] - 0s 6us/step - loss: 0.4070 - acc: 0.8353\n",
      "Epoch 60/100\n",
      "8000/8000 [==============================] - 0s 7us/step - loss: 0.4067 - acc: 0.8342\n",
      "Epoch 61/100\n",
      "8000/8000 [==============================] - 0s 6us/step - loss: 0.4067 - acc: 0.8344\n",
      "Epoch 62/100\n",
      "8000/8000 [==============================] - 0s 6us/step - loss: 0.4064 - acc: 0.8344\n",
      "Epoch 63/100\n",
      "8000/8000 [==============================] - 0s 6us/step - loss: 0.4064 - acc: 0.8350\n",
      "Epoch 64/100\n",
      "8000/8000 [==============================] - 0s 6us/step - loss: 0.4061 - acc: 0.8343\n",
      "Epoch 65/100\n",
      "8000/8000 [==============================] - 0s 6us/step - loss: 0.4059 - acc: 0.8346\n",
      "Epoch 66/100\n",
      "8000/8000 [==============================] - 0s 6us/step - loss: 0.4058 - acc: 0.8346\n",
      "Epoch 67/100\n",
      "8000/8000 [==============================] - 0s 6us/step - loss: 0.4057 - acc: 0.8334\n",
      "Epoch 68/100\n",
      "8000/8000 [==============================] - 0s 6us/step - loss: 0.4056 - acc: 0.8349\n",
      "Epoch 69/100\n",
      "8000/8000 [==============================] - 0s 6us/step - loss: 0.4053 - acc: 0.8348\n",
      "Epoch 70/100\n",
      "8000/8000 [==============================] - 0s 6us/step - loss: 0.4053 - acc: 0.8342\n",
      "Epoch 71/100\n",
      "8000/8000 [==============================] - 0s 6us/step - loss: 0.4053 - acc: 0.8337\n",
      "Epoch 72/100\n",
      "8000/8000 [==============================] - 0s 6us/step - loss: 0.4050 - acc: 0.8340\n",
      "Epoch 73/100\n",
      "8000/8000 [==============================] - 0s 6us/step - loss: 0.4052 - acc: 0.8341\n",
      "Epoch 74/100\n",
      "8000/8000 [==============================] - 0s 6us/step - loss: 0.4050 - acc: 0.8346\n",
      "Epoch 75/100\n",
      "8000/8000 [==============================] - 0s 7us/step - loss: 0.4048 - acc: 0.8351\n",
      "Epoch 76/100\n"
     ]
    },
    {
     "name": "stdout",
     "output_type": "stream",
     "text": [
      "8000/8000 [==============================] - 0s 7us/step - loss: 0.4046 - acc: 0.8341\n",
      "Epoch 77/100\n",
      "8000/8000 [==============================] - 0s 6us/step - loss: 0.4045 - acc: 0.8350\n",
      "Epoch 78/100\n",
      "8000/8000 [==============================] - 0s 6us/step - loss: 0.4045 - acc: 0.8339\n",
      "Epoch 79/100\n",
      "8000/8000 [==============================] - 0s 6us/step - loss: 0.4044 - acc: 0.8352\n",
      "Epoch 80/100\n",
      "8000/8000 [==============================] - 0s 6us/step - loss: 0.4044 - acc: 0.8341\n",
      "Epoch 81/100\n",
      "8000/8000 [==============================] - 0s 6us/step - loss: 0.4044 - acc: 0.8345\n",
      "Epoch 82/100\n",
      "8000/8000 [==============================] - 0s 6us/step - loss: 0.4041 - acc: 0.8348\n",
      "Epoch 83/100\n",
      "8000/8000 [==============================] - 0s 6us/step - loss: 0.4041 - acc: 0.8347\n",
      "Epoch 84/100\n",
      "8000/8000 [==============================] - 0s 6us/step - loss: 0.4040 - acc: 0.8345\n",
      "Epoch 85/100\n",
      "8000/8000 [==============================] - 0s 7us/step - loss: 0.4041 - acc: 0.8341\n",
      "Epoch 86/100\n",
      "8000/8000 [==============================] - 0s 6us/step - loss: 0.4039 - acc: 0.8344\n",
      "Epoch 87/100\n",
      "8000/8000 [==============================] - 0s 6us/step - loss: 0.4040 - acc: 0.8339\n",
      "Epoch 88/100\n",
      "8000/8000 [==============================] - 0s 6us/step - loss: 0.4036 - acc: 0.8351\n",
      "Epoch 89/100\n",
      "8000/8000 [==============================] - 0s 6us/step - loss: 0.4034 - acc: 0.8352\n",
      "Epoch 90/100\n",
      "8000/8000 [==============================] - 0s 6us/step - loss: 0.4038 - acc: 0.8350\n",
      "Epoch 91/100\n",
      "8000/8000 [==============================] - 0s 6us/step - loss: 0.4035 - acc: 0.8359\n",
      "Epoch 92/100\n",
      "8000/8000 [==============================] - 0s 6us/step - loss: 0.4035 - acc: 0.8339\n",
      "Epoch 93/100\n",
      "8000/8000 [==============================] - 0s 6us/step - loss: 0.4039 - acc: 0.8340\n",
      "Epoch 94/100\n",
      "8000/8000 [==============================] - 0s 6us/step - loss: 0.4033 - acc: 0.8347\n",
      "Epoch 95/100\n",
      "8000/8000 [==============================] - 0s 6us/step - loss: 0.4033 - acc: 0.8342\n",
      "Epoch 96/100\n",
      "8000/8000 [==============================] - 0s 6us/step - loss: 0.4034 - acc: 0.8353\n",
      "Epoch 97/100\n",
      "8000/8000 [==============================] - 0s 6us/step - loss: 0.4031 - acc: 0.8349\n",
      "Epoch 98/100\n",
      "8000/8000 [==============================] - 0s 6us/step - loss: 0.4033 - acc: 0.8346\n",
      "Epoch 99/100\n",
      "8000/8000 [==============================] - 0s 6us/step - loss: 0.4030 - acc: 0.8354\n",
      "Epoch 100/100\n",
      "8000/8000 [==============================] - 0s 6us/step - loss: 0.4032 - acc: 0.8344\n"
     ]
    },
    {
     "data": {
      "text/plain": [
       "<keras.callbacks.History at 0x1d51be6ef98>"
      ]
     },
     "execution_count": 7,
     "metadata": {},
     "output_type": "execute_result"
    }
   ],
   "source": [
    "#initializing the artificial neural network\n",
    "classifier = Sequential()\n",
    "\n",
    "#adding the input layer and the first hidden layer\n",
    "classifier.add(Dense(units=6, kernel_initializer='uniform', activation='relu', input_dim=11))\n",
    "\n",
    "#adding second hidden layer\n",
    "classifier.add(Dense(units=6, kernel_initializer='uniform', activation='relu'))\n",
    "\n",
    "#adding output layer\n",
    "classifier.add(Dense(units=1, kernel_initializer='uniform', activation='sigmoid'))\n",
    "\n",
    "#compile model\n",
    "classifier.compile(optimizer='adam', loss='binary_crossentropy', metrics=['accuracy'])\n",
    "\n",
    "#fit the model\n",
    "classifier.fit(X_train, y_train, epochs=100, batch_size=100)"
   ]
  },
  {
   "cell_type": "code",
   "execution_count": 8,
   "metadata": {},
   "outputs": [],
   "source": [
    "y_pred = classifier.predict(X_test)\n",
    "y_pred = (y_pred > 0.5)\n",
    "cm = confusion_matrix(y_test, y_pred)"
   ]
  },
  {
   "cell_type": "code",
   "execution_count": 9,
   "metadata": {},
   "outputs": [
    {
     "data": {
      "text/plain": [
       "array([[1560,   47],\n",
       "       [ 272,  121]], dtype=int64)"
      ]
     },
     "execution_count": 9,
     "metadata": {},
     "output_type": "execute_result"
    }
   ],
   "source": [
    "cm"
   ]
  },
  {
   "cell_type": "code",
   "execution_count": 10,
   "metadata": {},
   "outputs": [
    {
     "name": "stderr",
     "output_type": "stream",
     "text": [
      "C:\\Users\\aderson.medeiros\\Documents\\aderson\\estudo\\dataScience\\udemy\\deep_learning_az\\deeplaz\\lib\\site-packages\\sklearn\\utils\\validation.py:595: DataConversionWarning: Data with input dtype <U32 was converted to float64 by StandardScaler.\n",
      "  warnings.warn(msg, DataConversionWarning)\n"
     ]
    }
   ],
   "source": [
    "pred_value = np.array([[600, 'France', 'Male', 40, 3, 60000, 2, 1, 1, 50000]])\n",
    "pred_value[:,1] = labelencoder_X_1.transform(pred_value[:,1])\n",
    "pred_value[:,2] = labelencoder_X_2.transform(pred_value[:,2])\n",
    "pred_value = ct.transform(pred_value)\n",
    "pred_value = pred_value[:,1:]\n",
    "pred_value = sc.transform(pred_value)"
   ]
  },
  {
   "cell_type": "code",
   "execution_count": 11,
   "metadata": {},
   "outputs": [],
   "source": [
    "nova_pred = classifier.predict(pred_value)"
   ]
  },
  {
   "cell_type": "code",
   "execution_count": 12,
   "metadata": {},
   "outputs": [
    {
     "data": {
      "text/plain": [
       "array([[False]])"
      ]
     },
     "execution_count": 12,
     "metadata": {},
     "output_type": "execute_result"
    }
   ],
   "source": [
    "(nova_pred > 0.5)"
   ]
  },
  {
   "cell_type": "code",
   "execution_count": 13,
   "metadata": {},
   "outputs": [],
   "source": [
    "#Evaluation and cross-validation\n",
    "from keras.wrappers.scikit_learn import KerasClassifier\n",
    "from sklearn.model_selection import cross_val_score"
   ]
  },
  {
   "cell_type": "code",
   "execution_count": 15,
   "metadata": {},
   "outputs": [],
   "source": [
    "def build_classifier():\n",
    "    cross_val_score(classifier, X_train, y_train, cv=10)"
   ]
  }
 ],
 "metadata": {
  "kernelspec": {
   "display_name": "Python 3",
   "language": "python",
   "name": "python3"
  },
  "language_info": {
   "codemirror_mode": {
    "name": "ipython",
    "version": 3
   },
   "file_extension": ".py",
   "mimetype": "text/x-python",
   "name": "python",
   "nbconvert_exporter": "python",
   "pygments_lexer": "ipython3",
   "version": "3.6.8"
  }
 },
 "nbformat": 4,
 "nbformat_minor": 2
}
